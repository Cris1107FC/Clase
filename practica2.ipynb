{
 "cells": [
  {
   "cell_type": "code",
   "execution_count": 1,
   "metadata": {},
   "outputs": [
    {
     "name": "stdout",
     "output_type": "stream",
     "text": [
      "Hola Compañero\n",
      "Digite un numero y te indicaremos que multiplo es.\n",
      "Es un multiplo de 3\n",
      "Es un multiplo de 5\n"
     ]
    }
   ],
   "source": [
    "print (\"Hola Compañero\")\n",
    "print (\"Digite un numero y te indicaremos que multiplo es.\")\n",
    "multiplo = int(input())\n",
    "if multiplo % 2 == 0:\n",
    "    print(\"Es un multiplo de 2\")\n",
    "if multiplo % 3 == 0:\n",
    "    print(\"Es un multiplo de 3\")\n",
    "if multiplo % 5 == 0:\n",
    "    print(\"Es un multiplo de 5\")"
   ]
  }
 ],
 "metadata": {
  "kernelspec": {
   "display_name": "Python 3.10.4 64-bit",
   "language": "python",
   "name": "python3"
  },
  "language_info": {
   "codemirror_mode": {
    "name": "ipython",
    "version": 3
   },
   "file_extension": ".py",
   "mimetype": "text/x-python",
   "name": "python",
   "nbconvert_exporter": "python",
   "pygments_lexer": "ipython3",
   "version": "3.10.4"
  },
  "orig_nbformat": 4,
  "vscode": {
   "interpreter": {
    "hash": "43973268aa23c7cf4b4cafe0e819fac9b2412fcc991a21988492c3271a4e3f9b"
   }
  }
 },
 "nbformat": 4,
 "nbformat_minor": 2
}
